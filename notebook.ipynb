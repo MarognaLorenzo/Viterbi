{
 "cells": [
  {
   "cell_type": "markdown",
   "metadata": {},
   "source": [
    "# Part-of-Speech Tagging Practical Session"
   ]
  },
  {
   "cell_type": "markdown",
   "metadata": {
    "tags": []
   },
   "source": [
    "This part was produced using [Jupyter](http://jupyter.org).  \n",
    "If you are used to it, you can [download the corresponding notebook code from here](TP3-PoSTagging.ipynb). If not, no problem at all, this is not mandatory at all: simply proceed as usual in your favorite Python environment."
   ]
  },
  {
   "cell_type": "markdown",
   "metadata": {},
   "source": [
    "## Introduction\n",
    "\n",
    "In this practical session, our goals are to:\n",
    "\n",
    "* better understand the role and mechanisms behind PoS tagging;\n",
    "* explore applications of PoS tagging such as dealing with ambiguity or vocabulary reduction;\n",
    "* get accustomed to the Viterbi algorithm through a concrete example.\n",
    "\n",
    "This practical session is making use of the NLTK. Please refer to [this part of first practical session](TP1.php#nltk) for a setup."
   ]
  },
  {
   "cell_type": "markdown",
   "metadata": {},
   "source": [
    "## Setting up your environment\n",
    "\n",
    "If you have not setup an environment in the previous PSs, then follow these instructions. If not, you can skip to installing the required packages for this PS.\n",
    "\n",
    "While you can download the following packages with `pip` to your computer directly, we recommend **(but not require)** you to use a [virtual environment](https://packaging.python.org/en/latest/guides/installing-using-pip-and-virtual-environments/) to not mess up the package versions for different project.\n",
    "\n",
    "First make sure you have (a virtual environment (e.g., [venv, virtualenv](https://docs.python.org/3/library/venv.html), [conda](https://docs.conda.io/en/latest/miniconda.html)), and that the environment has) a Python version >= 3.6 (we recommend the latest 3.12). If you are using a Jupyter Notebook, make sure the interpreter points to the correct `python` executable.\n",
    "\n",
    "For example we use conda to manage our environments, and we do the following to create a new one and activate  it:\n",
    "```\n",
    "conda create --name inlp-venv\n",
    "conda activate inlp-venv\n",
    "```"
   ]
  },
  {
   "cell_type": "markdown",
   "metadata": {},
   "source": [
    "Then install the following packages **(this might take around 2 minutes)**:\n",
    "\n",
    "```\n",
    "pip install -U ipykernel\n",
    "pip install -U nltk\n",
    "```\n",
    "\n",
    "If you want to download them directly within the notebook you can uncomment the following cell and run it (not advised -- in case you might not have the right kernel open for this notebook).\n",
    "The idea is that anything that is preceded with ! will be run as a shell command:"
   ]
  },
  {
   "cell_type": "code",
   "execution_count": 1,
   "metadata": {},
   "outputs": [
    {
     "name": "stdout",
     "output_type": "stream",
     "text": [
      "Requirement already satisfied: ipykernel in ./.venv/lib/python3.11/site-packages (7.0.1)\n",
      "Requirement already satisfied: appnope>=0.1.2 in ./.venv/lib/python3.11/site-packages (from ipykernel) (0.1.4)\n",
      "Requirement already satisfied: comm>=0.1.1 in ./.venv/lib/python3.11/site-packages (from ipykernel) (0.2.3)\n",
      "Requirement already satisfied: debugpy>=1.6.5 in ./.venv/lib/python3.11/site-packages (from ipykernel) (1.8.17)\n",
      "Requirement already satisfied: ipython>=7.23.1 in ./.venv/lib/python3.11/site-packages (from ipykernel) (9.6.0)\n",
      "Requirement already satisfied: jupyter-client>=8.0.0 in ./.venv/lib/python3.11/site-packages (from ipykernel) (8.6.3)\n",
      "Requirement already satisfied: jupyter-core!=5.0.*,>=4.12 in ./.venv/lib/python3.11/site-packages (from ipykernel) (5.8.1)\n",
      "Requirement already satisfied: matplotlib-inline>=0.1 in ./.venv/lib/python3.11/site-packages (from ipykernel) (0.1.7)\n",
      "Requirement already satisfied: nest-asyncio>=1.4 in ./.venv/lib/python3.11/site-packages (from ipykernel) (1.6.0)\n",
      "Requirement already satisfied: packaging>=22 in ./.venv/lib/python3.11/site-packages (from ipykernel) (25.0)\n",
      "Requirement already satisfied: psutil>=5.7 in ./.venv/lib/python3.11/site-packages (from ipykernel) (7.1.0)\n",
      "Requirement already satisfied: pyzmq>=25 in ./.venv/lib/python3.11/site-packages (from ipykernel) (27.1.0)\n",
      "Requirement already satisfied: tornado>=6.2 in ./.venv/lib/python3.11/site-packages (from ipykernel) (6.5.2)\n",
      "Requirement already satisfied: traitlets>=5.4.0 in ./.venv/lib/python3.11/site-packages (from ipykernel) (5.14.3)\n",
      "Requirement already satisfied: decorator in ./.venv/lib/python3.11/site-packages (from ipython>=7.23.1->ipykernel) (5.2.1)\n",
      "Requirement already satisfied: ipython-pygments-lexers in ./.venv/lib/python3.11/site-packages (from ipython>=7.23.1->ipykernel) (1.1.1)\n",
      "Requirement already satisfied: jedi>=0.16 in ./.venv/lib/python3.11/site-packages (from ipython>=7.23.1->ipykernel) (0.19.2)\n",
      "Requirement already satisfied: pexpect>4.3 in ./.venv/lib/python3.11/site-packages (from ipython>=7.23.1->ipykernel) (4.9.0)\n",
      "Requirement already satisfied: prompt_toolkit<3.1.0,>=3.0.41 in ./.venv/lib/python3.11/site-packages (from ipython>=7.23.1->ipykernel) (3.0.52)\n",
      "Requirement already satisfied: pygments>=2.4.0 in ./.venv/lib/python3.11/site-packages (from ipython>=7.23.1->ipykernel) (2.19.2)\n",
      "Requirement already satisfied: stack_data in ./.venv/lib/python3.11/site-packages (from ipython>=7.23.1->ipykernel) (0.6.3)\n",
      "Requirement already satisfied: typing_extensions>=4.6 in ./.venv/lib/python3.11/site-packages (from ipython>=7.23.1->ipykernel) (4.15.0)\n",
      "Requirement already satisfied: wcwidth in ./.venv/lib/python3.11/site-packages (from prompt_toolkit<3.1.0,>=3.0.41->ipython>=7.23.1->ipykernel) (0.2.14)\n",
      "Requirement already satisfied: parso<0.9.0,>=0.8.4 in ./.venv/lib/python3.11/site-packages (from jedi>=0.16->ipython>=7.23.1->ipykernel) (0.8.5)\n",
      "Requirement already satisfied: python-dateutil>=2.8.2 in ./.venv/lib/python3.11/site-packages (from jupyter-client>=8.0.0->ipykernel) (2.9.0.post0)\n",
      "Requirement already satisfied: platformdirs>=2.5 in ./.venv/lib/python3.11/site-packages (from jupyter-core!=5.0.*,>=4.12->ipykernel) (4.5.0)\n",
      "Requirement already satisfied: ptyprocess>=0.5 in ./.venv/lib/python3.11/site-packages (from pexpect>4.3->ipython>=7.23.1->ipykernel) (0.7.0)\n",
      "Requirement already satisfied: six>=1.5 in ./.venv/lib/python3.11/site-packages (from python-dateutil>=2.8.2->jupyter-client>=8.0.0->ipykernel) (1.17.0)\n",
      "Requirement already satisfied: executing>=1.2.0 in ./.venv/lib/python3.11/site-packages (from stack_data->ipython>=7.23.1->ipykernel) (2.2.1)\n",
      "Requirement already satisfied: asttokens>=2.1.0 in ./.venv/lib/python3.11/site-packages (from stack_data->ipython>=7.23.1->ipykernel) (3.0.0)\n",
      "Requirement already satisfied: pure-eval in ./.venv/lib/python3.11/site-packages (from stack_data->ipython>=7.23.1->ipykernel) (0.2.3)\n",
      "Collecting nltk\n",
      "  Downloading nltk-3.9.2-py3-none-any.whl.metadata (3.2 kB)\n",
      "Collecting click (from nltk)\n",
      "  Downloading click-8.3.0-py3-none-any.whl.metadata (2.6 kB)\n",
      "Collecting joblib (from nltk)\n",
      "  Using cached joblib-1.5.2-py3-none-any.whl.metadata (5.6 kB)\n",
      "Collecting regex>=2021.8.3 (from nltk)\n",
      "  Downloading regex-2025.9.18-cp311-cp311-macosx_11_0_arm64.whl.metadata (40 kB)\n",
      "Collecting tqdm (from nltk)\n",
      "  Using cached tqdm-4.67.1-py3-none-any.whl.metadata (57 kB)\n",
      "Downloading nltk-3.9.2-py3-none-any.whl (1.5 MB)\n",
      "\u001b[2K   \u001b[90m━━━━━━━━━━━━━━━━━━━━━━━━━━━━━━━━━━━━━━━━\u001b[0m \u001b[32m1.5/1.5 MB\u001b[0m \u001b[31m12.0 MB/s\u001b[0m  \u001b[33m0:00:00\u001b[0m\n",
      "\u001b[?25hDownloading regex-2025.9.18-cp311-cp311-macosx_11_0_arm64.whl (286 kB)\n",
      "Downloading click-8.3.0-py3-none-any.whl (107 kB)\n",
      "Using cached joblib-1.5.2-py3-none-any.whl (308 kB)\n",
      "Using cached tqdm-4.67.1-py3-none-any.whl (78 kB)\n",
      "Installing collected packages: tqdm, regex, joblib, click, nltk\n",
      "\u001b[2K   \u001b[90m━━━━━━━━━━━━━━━━━━━━━━━━━━━━━━━━━━━━━━━━\u001b[0m \u001b[32m5/5\u001b[0m [nltk][32m4/5\u001b[0m [nltk]b]\n",
      "\u001b[1A\u001b[2KSuccessfully installed click-8.3.0 joblib-1.5.2 nltk-3.9.2 regex-2025.9.18 tqdm-4.67.1\n"
     ]
    }
   ],
   "source": [
    "!pip install -U ipykernel\n",
    "!pip install -U nltk"
   ]
  },
  {
   "cell_type": "markdown",
   "metadata": {},
   "source": [
    "And then download the tagsets in NLTK:"
   ]
  },
  {
   "cell_type": "code",
   "execution_count": 2,
   "metadata": {},
   "outputs": [
    {
     "name": "stderr",
     "output_type": "stream",
     "text": [
      "[nltk_data] Downloading package tagsets to /Users/lorenzo/nltk_data...\n",
      "[nltk_data]   Unzipping help/tagsets.zip.\n",
      "[nltk_data] Downloading package tagsets_json to\n",
      "[nltk_data]     /Users/lorenzo/nltk_data...\n",
      "[nltk_data]   Unzipping help/tagsets_json.zip.\n",
      "[nltk_data] Downloading package punkt_tab to\n",
      "[nltk_data]     /Users/lorenzo/nltk_data...\n",
      "[nltk_data]   Unzipping tokenizers/punkt_tab.zip.\n",
      "[nltk_data] Downloading package averaged_perceptron_tagger_eng to\n",
      "[nltk_data]     /Users/lorenzo/nltk_data...\n",
      "[nltk_data]   Unzipping taggers/averaged_perceptron_tagger_eng.zip.\n",
      "[nltk_data] Downloading package brown to /Users/lorenzo/nltk_data...\n",
      "[nltk_data]   Unzipping corpora/brown.zip.\n",
      "[nltk_data] Downloading package universal_tagset to\n",
      "[nltk_data]     /Users/lorenzo/nltk_data...\n",
      "[nltk_data]   Unzipping taggers/universal_tagset.zip.\n",
      "[nltk_data] Downloading package wordnet to /Users/lorenzo/nltk_data...\n"
     ]
    }
   ],
   "source": [
    "import nltk\n",
    "\n",
    "nltk.download(\"tagsets\")\n",
    "nltk.download(\"tagsets_json\")\n",
    "nltk.download(\"punkt_tab\")\n",
    "nltk.download(\"averaged_perceptron_tagger_eng\")\n",
    "\n",
    "nltk.download(\"brown\")\n",
    "nltk.download(\"universal_tagset\")\n",
    "nltk.download(\"wordnet\")\n",
    "\n",
    "from nltk.corpus import brown\n",
    "from nltk.corpus import wordnet\n",
    "from nltk.stem.wordnet import WordNetLemmatizer"
   ]
  },
  {
   "cell_type": "markdown",
   "metadata": {},
   "source": [
    "## 1. Parts of Speech and Ambiguity\n",
    "\n",
    "For this exercise, we will be using the basic functionality of the built-in PoS tagger from NLTK. All you need to know for this part can be found in [section 1  of chapter 5 of the NLTK book](http://www.nltk.org/book/ch05.html#using-a-tagger).\n",
    "\n",
    "1. Search the web for \"ambiguous headlines\", to find such gems as: \"_British Left Waffles on Falkland Islands_\", and \"_Juvenile Court to Try Shooting Defendant_\". [That website (link)](http://www.ling.upenn.edu/~beatrice/humor/headlines.html) has some good ones.\n",
    "1. Manually tag (by yourself) these headlines.\n",
    "   Do you think the information about part-of-speech tags would help a first reading?\n",
    "1. Use the built-in NLTK PoS tagger on the headlines.\n",
    "   Does it find the correct tags in these cases?\n",
    "\n",
    "**Note:** NLTK provides documentation for each tag, which can be queried using the tag, e.g.\n",
    "\n",
    "    nltk.help.upenn_tagset('RB')\n",
    "\n",
    "or some regular expression, e.g.\n",
    "\n",
    "    nltk.help.upenn_tagset('NN.*')"
   ]
  },
  {
   "cell_type": "code",
   "execution_count": 3,
   "metadata": {},
   "outputs": [
    {
     "name": "stdout",
     "output_type": "stream",
     "text": [
      "$: dollar\n",
      "    $ -$ --$ A$ C$ HK$ M$ NZ$ S$ U.S.$ US$\n",
      "'': closing quotation mark\n",
      "    ' ''\n",
      "(: opening parenthesis\n",
      "    ( [ {\n",
      "): closing parenthesis\n",
      "    ) ] }\n",
      ",: comma\n",
      "    ,\n",
      "--: dash\n",
      "    --\n",
      ".: sentence terminator\n",
      "    . ! ?\n",
      ":: colon or ellipsis\n",
      "    : ; ...\n",
      "CC: conjunction, coordinating\n",
      "    & 'n and both but either et for less minus neither nor or plus so\n",
      "    therefore times v. versus vs. whether yet\n",
      "CD: numeral, cardinal\n",
      "    mid-1890 nine-thirty forty-two one-tenth ten million 0.5 one forty-\n",
      "    seven 1987 twenty '79 zero two 78-degrees eighty-four IX '60s .025\n",
      "    fifteen 271,124 dozen quintillion DM2,000 ...\n",
      "DT: determiner\n",
      "    all an another any both del each either every half la many much nary\n",
      "    neither no some such that the them these this those\n",
      "EX: existential there\n",
      "    there\n",
      "FW: foreign word\n",
      "    gemeinschaft hund ich jeux habeas Haementeria Herr K'ang-si vous\n",
      "    lutihaw alai je jour objets salutaris fille quibusdam pas trop Monte\n",
      "    terram fiche oui corporis ...\n",
      "IN: preposition or conjunction, subordinating\n",
      "    astride among uppon whether out inside pro despite on by throughout\n",
      "    below within for towards near behind atop around if like until below\n",
      "    next into if beside ...\n",
      "JJ: adjective or numeral, ordinal\n",
      "    third ill-mannered pre-war regrettable oiled calamitous first separable\n",
      "    ectoplasmic battery-powered participatory fourth still-to-be-named\n",
      "    multilingual multi-disciplinary ...\n",
      "JJR: adjective, comparative\n",
      "    bleaker braver breezier briefer brighter brisker broader bumper busier\n",
      "    calmer cheaper choosier cleaner clearer closer colder commoner costlier\n",
      "    cozier creamier crunchier cuter ...\n",
      "JJS: adjective, superlative\n",
      "    calmest cheapest choicest classiest cleanest clearest closest commonest\n",
      "    corniest costliest crassest creepiest crudest cutest darkest deadliest\n",
      "    dearest deepest densest dinkiest ...\n",
      "LS: list item marker\n",
      "    A A. B B. C C. D E F First G H I J K One SP-44001 SP-44002 SP-44005\n",
      "    SP-44007 Second Third Three Two * a b c d first five four one six three\n",
      "    two\n",
      "MD: modal auxiliary\n",
      "    can cannot could couldn't dare may might must need ought shall should\n",
      "    shouldn't will would\n",
      "NN: noun, common, singular or mass\n",
      "    common-carrier cabbage knuckle-duster Casino afghan shed thermostat\n",
      "    investment slide humour falloff slick wind hyena override subhumanity\n",
      "    machinist ...\n",
      "NNP: noun, proper, singular\n",
      "    Motown Venneboerger Czestochwa Ranzer Conchita Trumplane Christos\n",
      "    Oceanside Escobar Kreisler Sawyer Cougar Yvette Ervin ODI Darryl CTCA\n",
      "    Shannon A.K.C. Meltex Liverpool ...\n",
      "NNPS: noun, proper, plural\n",
      "    Americans Americas Amharas Amityvilles Amusements Anarcho-Syndicalists\n",
      "    Andalusians Andes Andruses Angels Animals Anthony Antilles Antiques\n",
      "    Apache Apaches Apocrypha ...\n",
      "NNS: noun, common, plural\n",
      "    undergraduates scotches bric-a-brac products bodyguards facets coasts\n",
      "    divestitures storehouses designs clubs fragrances averages\n",
      "    subjectivists apprehensions muses factory-jobs ...\n",
      "PDT: pre-determiner\n",
      "    all both half many quite such sure this\n",
      "POS: genitive marker\n",
      "    ' 's\n",
      "PRP: pronoun, personal\n",
      "    hers herself him himself hisself it itself me myself one oneself ours\n",
      "    ourselves ownself self she thee theirs them themselves they thou thy us\n",
      "PRP$: pronoun, possessive\n",
      "    her his mine my our ours their thy your\n",
      "RB: adverb\n",
      "    occasionally unabatingly maddeningly adventurously professedly\n",
      "    stirringly prominently technologically magisterially predominately\n",
      "    swiftly fiscally pitilessly ...\n",
      "RBR: adverb, comparative\n",
      "    further gloomier grander graver greater grimmer harder harsher\n",
      "    healthier heavier higher however larger later leaner lengthier less-\n",
      "    perfectly lesser lonelier longer louder lower more ...\n",
      "RBS: adverb, superlative\n",
      "    best biggest bluntest earliest farthest first furthest hardest\n",
      "    heartiest highest largest least less most nearest second tightest worst\n",
      "RP: particle\n",
      "    aboard about across along apart around aside at away back before behind\n",
      "    by crop down ever fast for forth from go high i.e. in into just later\n",
      "    low more off on open out over per pie raising start teeth that through\n",
      "    under unto up up-pp upon whole with you\n",
      "SYM: symbol\n",
      "    % & ' '' ''. ) ). * + ,. < = > @ A[fj] U.S U.S.S.R * ** ***\n",
      "TO: \"to\" as preposition or infinitive marker\n",
      "    to\n",
      "UH: interjection\n",
      "    Goodbye Goody Gosh Wow Jeepers Jee-sus Hubba Hey Kee-reist Oops amen\n",
      "    huh howdy uh dammit whammo shucks heck anyways whodunnit honey golly\n",
      "    man baby diddle hush sonuvabitch ...\n",
      "VB: verb, base form\n",
      "    ask assemble assess assign assume atone attention avoid bake balkanize\n",
      "    bank begin behold believe bend benefit bevel beware bless boil bomb\n",
      "    boost brace break bring broil brush build ...\n",
      "VBD: verb, past tense\n",
      "    dipped pleaded swiped regummed soaked tidied convened halted registered\n",
      "    cushioned exacted snubbed strode aimed adopted belied figgered\n",
      "    speculated wore appreciated contemplated ...\n",
      "VBG: verb, present participle or gerund\n",
      "    telegraphing stirring focusing angering judging stalling lactating\n",
      "    hankerin' alleging veering capping approaching traveling besieging\n",
      "    encrypting interrupting erasing wincing ...\n",
      "VBN: verb, past participle\n",
      "    multihulled dilapidated aerosolized chaired languished panelized used\n",
      "    experimented flourished imitated reunifed factored condensed sheared\n",
      "    unsettled primed dubbed desired ...\n",
      "VBP: verb, present tense, not 3rd person singular\n",
      "    predominate wrap resort sue twist spill cure lengthen brush terminate\n",
      "    appear tend stray glisten obtain comprise detest tease attract\n",
      "    emphasize mold postpone sever return wag ...\n",
      "VBZ: verb, present tense, 3rd person singular\n",
      "    bases reconstructs marks mixes displeases seals carps weaves snatches\n",
      "    slumps stretches authorizes smolders pictures emerges stockpiles\n",
      "    seduces fizzes uses bolsters slaps speaks pleads ...\n",
      "WDT: WH-determiner\n",
      "    that what whatever which whichever\n",
      "WP: WH-pronoun\n",
      "    that what whatever whatsoever which who whom whosoever\n",
      "WP$: WH-pronoun, possessive\n",
      "    whose\n",
      "WRB: Wh-adverb\n",
      "    how however whence whenever where whereby whereever wherein whereof why\n",
      "``: opening quotation mark\n",
      "    ` ``\n"
     ]
    }
   ],
   "source": [
    "import nltk\n",
    "\n",
    "# some headline\n",
    "headline = \"British Left Waffles on Falkland Islands\"\n",
    "\n",
    "nltk.help.upenn_tagset()"
   ]
  },
  {
   "cell_type": "markdown",
   "metadata": {
    "tags": [
     "no_solution"
    ]
   },
   "source": [
    "🎯 [**to do:** complete the above code to tag your headline phrase]"
   ]
  },
  {
   "cell_type": "code",
   "execution_count": 4,
   "metadata": {
    "tags": [
     "solution"
    ]
   },
   "outputs": [
    {
     "name": "stdout",
     "output_type": "stream",
     "text": [
      "[('British', 'JJ'), ('Left', 'NNP'), ('Waffles', 'NNP'), ('on', 'IN'), ('Falkland', 'NNP'), ('Islands', 'NNP')]\n",
      "JJ: adjective or numeral, ordinal\n",
      "    third ill-mannered pre-war regrettable oiled calamitous first separable\n",
      "    ectoplasmic battery-powered participatory fourth still-to-be-named\n",
      "    multilingual multi-disciplinary ...\n",
      "NNP: noun, proper, singular\n",
      "    Motown Venneboerger Czestochwa Ranzer Conchita Trumplane Christos\n",
      "    Oceanside Escobar Kreisler Sawyer Cougar Yvette Ervin ODI Darryl CTCA\n",
      "    Shannon A.K.C. Meltex Liverpool ...\n",
      "NNP: noun, proper, singular\n",
      "    Motown Venneboerger Czestochwa Ranzer Conchita Trumplane Christos\n",
      "    Oceanside Escobar Kreisler Sawyer Cougar Yvette Ervin ODI Darryl CTCA\n",
      "    Shannon A.K.C. Meltex Liverpool ...\n",
      "IN: preposition or conjunction, subordinating\n",
      "    astride among uppon whether out inside pro despite on by throughout\n",
      "    below within for towards near behind atop around if like until below\n",
      "    next into if beside ...\n",
      "NNP: noun, proper, singular\n",
      "    Motown Venneboerger Czestochwa Ranzer Conchita Trumplane Christos\n",
      "    Oceanside Escobar Kreisler Sawyer Cougar Yvette Ervin ODI Darryl CTCA\n",
      "    Shannon A.K.C. Meltex Liverpool ...\n",
      "NNP: noun, proper, singular\n",
      "    Motown Venneboerger Czestochwa Ranzer Conchita Trumplane Christos\n",
      "    Oceanside Escobar Kreisler Sawyer Cougar Yvette Ervin ODI Darryl CTCA\n",
      "    Shannon A.K.C. Meltex Liverpool ...\n"
     ]
    }
   ],
   "source": [
    "# Tokenize and then tag the headline\n",
    "tagged = nltk.pos_tag(nltk.word_tokenize(headline))\n",
    "print(tagged)\n",
    "\n",
    "# some help, maybe...\n",
    "for word, tag in tagged:\n",
    "    nltk.help.upenn_tagset(tag)"
   ]
  },
  {
   "cell_type": "markdown",
   "metadata": {},
   "source": [
    "## 2. Vocabulary size and variability reduction\n",
    "\n",
    "In this exercise, we will be exploring the interplay between PoS tagging, lemmatization, and vocabulary reduction.\n",
    "\n",
    "Imagine you have a large corpus and a large number of queries of the form “_Give me all documents in which all of the words x, y and  z appear_”. One way to answer such queries efficiently is to index the documents in the corpus: for instance implement a function called `index()` for which `index(document, word)` returns non-zero if and only if word occurs in document at least once.\n",
    "\n",
    "One way to implement this kind of index is with a matrix in which each line corresponds to a document and each column corresponds to a word. When the query above is executed, only the lines for which the entries on the x, y and z columns are simultaneously not zero are returned.\n",
    "\n",
    "The size of this matrix is number of documents × number of distinct words that appear in the corpus. Clearly, the smaller the matrix, the faster the queries are executed. Ideally, we would like to reduce the number of words while not losing the ability to answer queries. One way to do this is to eliminate morphological variability — for instance, map both “_goes_” and “_went_” to the same column “_go_”. This is called \"_lemmatization_\". Part-of-speech tagging can help lemmatization so as not to confuse similar surface forms with different roles (e.g. not confuse \"_can_\" as in \"_a can of beer_\" as opposed to \"_I can do it_\".).\n",
    "\n",
    "* To begin, we will need a corpus to work with. Let's make use of the [Brown Corpus](http://en.wikipedia.org/wiki/Brown_Corpus). Load the list of all word-tag tuples from the corpus:"
   ]
  },
  {
   "cell_type": "code",
   "execution_count": 5,
   "metadata": {},
   "outputs": [],
   "source": [
    "brown_tagged = brown.tagged_words(tagset=\"universal\")"
   ]
  },
  {
   "cell_type": "markdown",
   "metadata": {},
   "source": [
    "and see what you got; e.g."
   ]
  },
  {
   "cell_type": "code",
   "execution_count": 6,
   "metadata": {},
   "outputs": [
    {
     "data": {
      "text/plain": [
       "[('The', 'DET'),\n",
       " ('Fulton', 'NOUN'),\n",
       " ('County', 'NOUN'),\n",
       " ('Grand', 'ADJ'),\n",
       " ('Jury', 'NOUN'),\n",
       " ('said', 'VERB'),\n",
       " ('Friday', 'NOUN'),\n",
       " ('an', 'DET'),\n",
       " ('investigation', 'NOUN'),\n",
       " ('of', 'ADP')]"
      ]
     },
     "execution_count": 6,
     "metadata": {},
     "output_type": "execute_result"
    }
   ],
   "source": [
    "brown_tagged[0:10]"
   ]
  },
  {
   "cell_type": "markdown",
   "metadata": {},
   "source": [
    "Note that we are using the “[universal](http://www.nltk.org/book/ch05.html#tab-universal-tagset)” tagset because the original Brown tagset is somewhat unwieldy."
   ]
  },
  {
   "cell_type": "markdown",
   "metadata": {},
   "source": [
    "* Next, we want to see how many distinct words appear in the corpus. Variations of the same word should be counted separately, e.g. \"_go_\" and \"_went_\" shall be counted separately here, but case should be ignored. One way to do this is to use the NLTK-supplied [`FreqDist` class](http://www.nltk.org/_modules/nltk/probability.html):"
   ]
  },
  {
   "cell_type": "code",
   "execution_count": 7,
   "metadata": {},
   "outputs": [],
   "source": [
    "fdist_before = nltk.FreqDist(word.lower() for (word, tag) in brown_tagged)"
   ]
  },
  {
   "cell_type": "markdown",
   "metadata": {},
   "source": [
    "This builds a frequency distribution from the words in the corpus (have a look!).\n",
    "To see how many distinct words are in the distribution, simply take the length: "
   ]
  },
  {
   "cell_type": "code",
   "execution_count": 8,
   "metadata": {},
   "outputs": [
    {
     "data": {
      "text/plain": [
       "49815"
      ]
     },
     "execution_count": 8,
     "metadata": {},
     "output_type": "execute_result"
    }
   ],
   "source": [
    "len(fdist_before)  ## should be 49815"
   ]
  },
  {
   "cell_type": "markdown",
   "metadata": {},
   "source": [
    "* Now run the [WordNet Lemmatizer](https://www.nltk.org/_modules/nltk/stem/wordnet.html) on the tagged corpus.\n",
    "  Note that this lemmatizer needs information about the part of speech of a token in order to correctly lemmatize it.\n",
    "  One way of lemmatizing the entire corpus is to iterate through the list of (token, tag) pairs — `brown_tagged` variable above —, lemmatize each token and add the lemma to a separate list.\n",
    "  For the part-of-speech format needed for lemmatization, you might find the following function useful (do not forget to `import wordnet from nltk.corpus`):"
   ]
  },
  {
   "cell_type": "code",
   "execution_count": 9,
   "metadata": {},
   "outputs": [],
   "source": [
    "# converts a pos tag from the 'universal' format to wordnet format\n",
    "def get_wordnet_pos(universal_tag):\n",
    "    if universal_tag == \"VERB\":\n",
    "        return wordnet.VERB\n",
    "    elif universal_tag == \"ADJ\":\n",
    "        return wordnet.ADJ\n",
    "    elif universal_tag == \"ADV\":\n",
    "        return wordnet.ADV\n",
    "    else:\n",
    "        return wordnet.NOUN"
   ]
  },
  {
   "cell_type": "markdown",
   "metadata": {},
   "source": [
    "* Count the distinct lemmatized words, for example using FreqDist. Do not forget to convert everything to lowercase.\n",
    "  What percentage reduction did you obtain?"
   ]
  },
  {
   "cell_type": "markdown",
   "metadata": {
    "tags": [
     "no_solution"
    ]
   },
   "source": [
    "🎯 [**to do:** write Python code to perform lemmatization of the Brown corpus and answer the above question.]"
   ]
  },
  {
   "cell_type": "code",
   "execution_count": 10,
   "metadata": {
    "tags": [
     "solution"
    ]
   },
   "outputs": [
    {
     "name": "stdout",
     "output_type": "stream",
     "text": [
      "39364\n",
      "20.979624611060924\n"
     ]
    }
   ],
   "source": [
    "lem = WordNetLemmatizer()\n",
    "\n",
    "# build a frequency distribution from the lowercase form of the lemmas\n",
    "fdist_after = nltk.FreqDist(\n",
    "    lem.lemmatize(word.lower(), get_wordnet_pos(tag)) for (word, tag) in brown_tagged\n",
    ")\n",
    "\n",
    "# how many words exist after lemmatization (we obtained ~21% reduction)\n",
    "print(len(fdist_after))  ## should be 39358\n",
    "\n",
    "print(\n",
    "    100 * (len(fdist_before) - len(fdist_after)) / len(fdist_before)\n",
    ")  ## should be 21%"
   ]
  },
  {
   "cell_type": "markdown",
   "metadata": {},
   "source": [
    "## 3. N-gram tagging\n",
    "### 3.1 Unigram tagger\n",
    "\n",
    "In this exercise, we will see how adding context can improve the performance of automatic part-of-speech tagging. From the NLTK point of view, everything you need to know can be found in [section 5 of chapter 5 of the book](http://www.nltk.org/book/ch05.html#n-gram-tagging).\n",
    "\n",
    "We will begin with a simple unigram tagger and build it up to a slightly more complex tagger. Unigram taggers are based on a simple statistical algorithm: for each token, assign the tag that is most likely for that particular token.\n",
    "\n",
    "* The first thing we want to do is to consider a corpus to work with and separate it into a training set and a test set. We recommend the Brown corpus again, but this time it is a good idea to restrict it to one or two of its categories, otherwise the experiments would be too slow (we choose news and fiction categories below):\n"
   ]
  },
  {
   "cell_type": "code",
   "execution_count": 11,
   "metadata": {},
   "outputs": [
    {
     "name": "stdout",
     "output_type": "stream",
     "text": [
      "Size of corpus: 8872 sentences\n",
      "Size of training set: 7984 sentencces\n"
     ]
    }
   ],
   "source": [
    "# import the tagged and untagged sentences\n",
    "brown_tagged_sents = brown.tagged_sents(categories=[\"news\", \"fiction\"])\n",
    "print(\"Size of corpus: {0} sentences\".format(len(brown_tagged_sents)))\n",
    "\n",
    "# split the sentences into training and test sets\n",
    "size = int(len(brown_tagged_sents) * 0.9)\n",
    "train_sents = brown_tagged_sents[:size]\n",
    "print(\"Size of training set: {0} sentencces\".format(size))\n",
    "\n",
    "# Tagged test sentences (used as reference)\n",
    "test_sents = brown_tagged_sents[size:]\n",
    "\n",
    "# Untagged test sentences\n",
    "raw_sents = brown.sents(categories=[\"news\", \"fiction\"])[size:]"
   ]
  },
  {
   "cell_type": "markdown",
   "metadata": {},
   "source": [
    "* Train a unigram tagger (on the training set of sentences) and run it on some of the sentences from `raw_sents`. Observe that some words are not assigned a tag.\n",
    "  Why not?\n",
    "* What is the accuracy of the tagger on the test set (the [`evaluate()` function](http://www.nltk.org/api/nltk.tag.html#nltk.tag.api.TaggerI.evaluate) may come in handy here)?"
   ]
  },
  {
   "cell_type": "markdown",
   "metadata": {
    "tags": [
     "no_solution"
    ]
   },
   "source": [
    "🎯 [**to do:** write Python code to perform unigram tagger learning on the Brown corpus and answer the above questions.]"
   ]
  },
  {
   "cell_type": "code",
   "execution_count": 12,
   "metadata": {
    "tags": [
     "solution"
    ]
   },
   "outputs": [
    {
     "name": "stdout",
     "output_type": "stream",
     "text": [
      "Unigram tagger unseen sentence example:\n",
      "[('``', '``'), ('Um', None), (\"''\", \"''\"), (',', ','), ('said', 'VBD'), ('the', 'AT'), ('old', 'JJ'), ('lady', 'NN'), (',', ','), ('and', 'CC'), ('brought', 'VBD'), ('her', 'PP$'), ('eyes', 'NNS'), ('down', 'RP'), ('to', 'TO'), ('the', 'AT'), ('tray', None), ('.', '.')]\n",
      "\n",
      "Perf. of unigram tagger alone: 0.8502823106037104\n"
     ]
    },
    {
     "name": "stderr",
     "output_type": "stream",
     "text": [
      "/var/folders/52/ltb3n2l53qx00lz973chgvp80000gn/T/ipykernel_54602/1206963432.py:7: DeprecationWarning: \n",
      "  Function evaluate() has been deprecated.  Use accuracy(gold)\n",
      "  instead.\n",
      "  \"\\nPerf. of unigram tagger alone: {0}\".format(unigram_tagger.evaluate(test_sents))\n"
     ]
    }
   ],
   "source": [
    "# train the tagger and test it on unseen sentences\n",
    "unigram_tagger = nltk.UnigramTagger(train_sents)\n",
    "print(\"Unigram tagger unseen sentence example:\")\n",
    "print(unigram_tagger.tag(raw_sents[10]))\n",
    "\n",
    "print(\n",
    "    \"\\nPerf. of unigram tagger alone: {0}\".format(unigram_tagger.evaluate(test_sents))\n",
    ")"
   ]
  },
  {
   "cell_type": "markdown",
   "metadata": {},
   "source": [
    "### 3.2 Guesser\n",
    "\n",
    "An easy way to mitigate the problem of some words not being assigned tags is to have the unigram tagger fall back on a guesser when it does not know what tag to assign to a word.\n",
    "\n",
    "As its name suggests, a guesser is a PoS Tagger that assigns a tag to any token (be it a correct word or not). The use of a guesser as a fallback can improve the robustness of the PoS tagging system (i.e. the system will associate a PoS tag to every word, even if it was not seen beforehand, or if it is not in the lexicon).\n",
    "Another scenario in which a guesser could be helpful is in the initialization phase of the Brill tagging algorithm. In addition, the guesser’s standalone performance could be used as a baseline, when evaluating more complex taggers.\n",
    "\n",
    "For instance, perhaps the simplest guesser is the one that just assigns the same tag to every word it encounters. This is called a [“_default tagger_”](http://www.nltk.org/api/nltk.tag.html#nltk.tag.sequential.DefaultTagger) in NLTK.\n",
    "\n",
    "* 🎯 Instantiate a default tagger and use it to tag the test sentences (`test_sents`) defined in the previous section.\n",
    "  Do not combine it yet with other taggers at this point.\n",
    "  Report the accuracy. (Feel free to look at the examples in [sections 4](http://www.nltk.org/book/ch05.html#automatic-tagging)  [and 5](http://www.nltk.org/book/ch05.html#n-gram-tagging)  from chapter 5 of the NLTK book.)"
   ]
  },
  {
   "cell_type": "code",
   "execution_count": 13,
   "metadata": {
    "tags": [
     "solution"
    ]
   },
   "outputs": [
    {
     "name": "stdout",
     "output_type": "stream",
     "text": [
      "Perf. default tagger alone: 0.11230377861884966\n"
     ]
    },
    {
     "name": "stderr",
     "output_type": "stream",
     "text": [
      "/var/folders/52/ltb3n2l53qx00lz973chgvp80000gn/T/ipykernel_54602/2325258753.py:2: DeprecationWarning: \n",
      "  Function evaluate() has been deprecated.  Use accuracy(gold)\n",
      "  instead.\n",
      "  print(\"Perf. default tagger alone: {0}\".format(t0.evaluate(test_sents)))\n"
     ]
    }
   ],
   "source": [
    "t0 = nltk.DefaultTagger(\"NN\")\n",
    "print(\"Perf. default tagger alone: {0}\".format(t0.evaluate(test_sents)))"
   ]
  },
  {
   "cell_type": "markdown",
   "metadata": {},
   "source": [
    "* 🎯 Then use the default tagger as a fallback for a Unigram tagger. Report the change in accuracy."
   ]
  },
  {
   "cell_type": "code",
   "execution_count": 14,
   "metadata": {
    "tags": [
     "solution"
    ]
   },
   "outputs": [
    {
     "name": "stdout",
     "output_type": "stream",
     "text": [
      "Perf. unigram tagger, fallback on default tagger: 0.868834150276106\n"
     ]
    },
    {
     "name": "stderr",
     "output_type": "stream",
     "text": [
      "/var/folders/52/ltb3n2l53qx00lz973chgvp80000gn/T/ipykernel_54602/1508534276.py:4: DeprecationWarning: \n",
      "  Function evaluate() has been deprecated.  Use accuracy(gold)\n",
      "  instead.\n",
      "  t1.evaluate(test_sents)\n"
     ]
    }
   ],
   "source": [
    "t1 = nltk.UnigramTagger(train_sents, backoff=t0)\n",
    "print(\n",
    "    \"Perf. unigram tagger, fallback on default tagger: {0}\".format(\n",
    "        t1.evaluate(test_sents)\n",
    "    )\n",
    ")"
   ]
  },
  {
   "cell_type": "markdown",
   "metadata": {},
   "source": [
    "🎯 [**to do:** How would you build a better guesser, while still not relying on any further training data?]"
   ]
  },
  {
   "cell_type": "markdown",
   "metadata": {
    "tags": [
     "solution"
    ]
   },
   "source": [
    "**Answer:** We could make use of morphology, e.g. using regular expressions to take some decision on the tag to guess, as done now."
   ]
  },
  {
   "cell_type": "markdown",
   "metadata": {},
   "source": [
    "One step further than the default tagger could be to assign tags to tokens on the basis of matching patterns. In other words, the form of the token is considered when guessing its part-of-speech. For example, it might guess that any word ending in “ed” is the past participle of a verb, and any word ending with “'s” is a possessive noun. This is called a [“_regular expression tagger_”](http://www.nltk.org/api/nltk.tag.html#nltk.tag.sequential.RegexpTagger) and is already available in NLTK.\n",
    "\n",
    "🎯 [**to do:**]\n",
    "* 🎯 Instantiate a regular expression tagger and use it to tag the test sentences. You could use the same rules provided in the link above, or define some other rules of your own.\n",
    "  Do not combine it yet with other taggers at this point.\n",
    "  Report the accuracy.\n",
    "* 🎯 Now use the regular expression tagger as a fallback for a Unigram tagger.\n",
    "  Report the change in accuracy."
   ]
  },
  {
   "cell_type": "code",
   "execution_count": 15,
   "metadata": {
    "tags": [
     "solution"
    ]
   },
   "outputs": [
    {
     "name": "stderr",
     "output_type": "stream",
     "text": [
      "/var/folders/52/ltb3n2l53qx00lz973chgvp80000gn/T/ipykernel_54602/1988486054.py:14: DeprecationWarning: \n",
      "  Function evaluate() has been deprecated.  Use accuracy(gold)\n",
      "  instead.\n",
      "  print(\"Perf. RegExp tagger alone: {0}\".format(regexp_tagger.evaluate(test_sents)))\n"
     ]
    },
    {
     "name": "stdout",
     "output_type": "stream",
     "text": [
      "Perf. RegExp tagger alone: 0.2701495315505367\n",
      "Perf. unigram tagger, fallback on regexp_tagger: 0.8877582676676801\n"
     ]
    },
    {
     "name": "stderr",
     "output_type": "stream",
     "text": [
      "/var/folders/52/ltb3n2l53qx00lz973chgvp80000gn/T/ipykernel_54602/1988486054.py:20: DeprecationWarning: \n",
      "  Function evaluate() has been deprecated.  Use accuracy(gold)\n",
      "  instead.\n",
      "  uni_regexp.evaluate(test_sents)\n"
     ]
    }
   ],
   "source": [
    "regexp_tagger = nltk.RegexpTagger(\n",
    "    [\n",
    "        (r\"^-?[0-9]+(.[0-9]+)?$\", \"CD\"),  # cardinal numbers\n",
    "        (r\"(The|the|A|a|An|an)$\", \"AT\"),  # articles\n",
    "        (r\".*able$\", \"JJ\"),  # adjectives\n",
    "        (r\".*ness$\", \"NN\"),  # nouns formed from adjectives\n",
    "        (r\".*ly$\", \"RB\"),  # adverbs\n",
    "        (r\".*s$\", \"NNS\"),  # plural nouns\n",
    "        (r\".*ing$\", \"VBG\"),  # gerunds\n",
    "        (r\".*ed$\", \"VBD\"),  # past tense verbs\n",
    "        (r\".*\", \"NN\"),  # nouns (default)\n",
    "    ]\n",
    ")\n",
    "print(\"Perf. RegExp tagger alone: {0}\".format(regexp_tagger.evaluate(test_sents)))\n",
    "\n",
    "# evaluate a unigram tagger with a backoff to a regexp tagger\n",
    "uni_regexp = nltk.UnigramTagger(train_sents, backoff=regexp_tagger)\n",
    "print(\n",
    "    \"Perf. unigram tagger, fallback on regexp_tagger: {0}\".format(\n",
    "        uni_regexp.evaluate(test_sents)\n",
    "    )\n",
    ")"
   ]
  },
  {
   "cell_type": "markdown",
   "metadata": {},
   "source": [
    "### 3.3 Bigrams and More\n",
    "\n",
    "When performing PoS tagging using a unigram-based tagger, the larger context in which the words appear is ignored. Unigram taggers consider only one item of context, in isolation. This poses a significant limitation on any tagger in this class: the most that it can do is to assign the a priori most likely tag to a given token. In a sense, the tag of each word is decided before it is placed in a sentence.  Therefore, the word “_object_” would be assigned the same part of speech every time, regardless if it appears as “_the object_” (should be a noun) or as “_to object_” (should be a verb).  \n",
    "\n",
    "An n-gram tagger picks the tag that is most likely in the given context of size n. An instance of an n-gram tagger is the bigram tagger, which considers groups of two tokens when deciding on the parts-of-speech. For example, we would expect a bigram tagger to find the correct tags for the two occurrences of the word “_objec_t” in the following sentence (as opposed to a unigram tagger):\n",
    "\n",
    "“_I did not object to the object_”\n",
    "\n",
    "Indeed, a NLTK unigram tagger trained on the Brown corpus yields: "
   ]
  },
  {
   "cell_type": "code",
   "execution_count": 16,
   "metadata": {},
   "outputs": [
    {
     "name": "stdout",
     "output_type": "stream",
     "text": [
      "[('I', 'PPSS'), ('did', 'DOD'), ('not', '*'), ('object', 'VB'), ('to', 'TO'), ('the', 'AT'), ('object', 'VB')]\n",
      "[('I', 'PPSS'), ('did', 'DOD'), ('not', '*'), ('object', 'VB'), ('to', 'TO'), ('the', 'AT'), ('object', 'VB')]\n",
      "[('I', 'PPSS'), ('did', 'DOD'), ('not', '*'), ('object', 'VB'), ('to', 'TO'), ('the', 'AT'), ('object', 'VB')]\n"
     ]
    }
   ],
   "source": [
    "sentence = \"I did not object to the object\"\n",
    "tokens = nltk.word_tokenize(sentence)\n",
    "\n",
    "print(unigram_tagger.tag(tokens))\n",
    "print(\n",
    "    t1.tag(tokens)\n",
    ")  # t1 is the unigram tagger with a fallback on default tagger, you can change it to whichever variable you used\n",
    "print(\n",
    "    uni_regexp.tag(tokens)\n",
    ")  # uni_regexp is the unigram tagger with a fallback on a regexp tagger, you can change it to whichever variable you used"
   ]
  },
  {
   "cell_type": "markdown",
   "metadata": {},
   "source": [
    "No way to have a different tag for the two \"_object_\" words.\n",
    "\n",
    "🎯 [**to do:**]\n",
    "* 🎯 Train a bigram tagger alone on the training set (`train_sents`) and check it in the above sentence (weird result expected, see below).\n",
    "* 🎯 Then, find its accuracy on the test set (`test_sents`)."
   ]
  },
  {
   "cell_type": "code",
   "execution_count": 17,
   "metadata": {
    "tags": [
     "solution"
    ]
   },
   "outputs": [
    {
     "name": "stdout",
     "output_type": "stream",
     "text": [
      "[('I', 'PPSS'), ('did', 'DOD'), ('not', '*'), ('object', 'VB'), ('to', 'TO'), ('the', None), ('object', None)]\n",
      "\n",
      "Perf. bigram tagger alone: 0.19631445058013278\n"
     ]
    }
   ],
   "source": [
    "bigram = nltk.BigramTagger(train_sents)\n",
    "\n",
    "print(bigram.tag(tokens))\n",
    "\n",
    "print(\"\\nPerf. bigram tagger alone: {0}\".format(bigram.accuracy(test_sents)))"
   ]
  },
  {
   "cell_type": "markdown",
   "metadata": {},
   "source": [
    "You have probably found a surprising result on our sample sentence and very low accuracy for the bigram tagger, when run alone. If you run the trained bigram tagger on a sentence it has not seen during training (e.g. bigram.tag(raw_sents[1]), you will notice that a majority of words will be tagged as “None”. When the bigram tagger encounters a new word, it is unable to assign a tag. It will also be unable to tag the following word — even if it was seen during training — because it was never seen preceded by a “None” tag. From this point on, all the words up to the end of the sentence will be tagged as “None” for the same reason. This explains the low accuracy of the bigram tagger when run alone.\n",
    "\n",
    "The problem that arises when using n-grams is that once we pass to larger values of n, more data is needed for training, as the specificity of the context increases. In other words, there are many more possible bigrams than unigrams and thus the word/tag combinations that we need to consider when tagging are less likely to have appeared in the training set, as n increases. This is known as the sparse data problem, and is quite pervasive in NLP.\n",
    "\n",
    "This means that, when using n-gram taggers, we encounter the following tradeoff: having n large means more accurate predictions, at the cost of having to provide more training data; having a smaller n, leads to not so accurate predictions, but less necessary training data.\n",
    "\n",
    "In order to overcome this limitation, we can train a bigram tagger that falls back on our “unigram+default” or “unigram+regexp” taggers defined in the previous section.\n",
    "\n",
    "🎯 [**to do**:]\n",
    "* 🎯 Try this out now (an example for a bigram tagger with fallback on “unigram+default” can be found in the book, [section 5.5.4 “_Combining Taggers_”](http://www.nltk.org/book/ch05.html#combining-taggers)). Does this improve performance?\n",
    "* 🎯 What about adding a trigram tagger that falls back on the “bigram+unigram+default” or on “bigram+unigram+regexp”?  "
   ]
  },
  {
   "cell_type": "code",
   "execution_count": 18,
   "metadata": {
    "tags": [
     "solution"
    ]
   },
   "outputs": [
    {
     "name": "stdout",
     "output_type": "stream",
     "text": [
      "Perf. bigram tagger,  fallback on        unigram+default tagger: 0.8848420922007818\n",
      "Perf. trigram tagger, fallback on bigram+unigram+default tagger: 0.8845939070546628\n",
      "\n",
      "Perf. bigram tagger,  fallback on        unigram+regexp tagger: 0.9036421170192964\n",
      "Perf. trigram tagger, fallback on bigram+unigram+regexp tagger: 0.9036421170192964\n",
      "[('I', 'PPSS'), ('did', 'DOD'), ('not', '*'), ('object', 'VB'), ('to', 'TO'), ('the', 'AT'), ('object', 'NN')]\n"
     ]
    }
   ],
   "source": [
    "# evaluate a bigram tagger with a backoff to the unigram+dummy tagger\n",
    "t2 = nltk.BigramTagger(train_sents, backoff=t1)\n",
    "print(\n",
    "    \"Perf. bigram tagger,  fallback on        unigram+default tagger: {0}\".format(\n",
    "        t2.accuracy(test_sents)\n",
    "    )\n",
    ")\n",
    "\n",
    "# evaluate a trigram tagger with a backoff to the bigram+unigram+dummy tagger\n",
    "t3 = nltk.TrigramTagger(train_sents, backoff=t2)\n",
    "print(\n",
    "    \"Perf. trigram tagger, fallback on bigram+unigram+default tagger: {0}\".format(\n",
    "        t3.accuracy(test_sents)\n",
    "    )\n",
    ")\n",
    "\n",
    "print(\"\")\n",
    "# evaluate a bigram tagger with a backoff to the unigram+regexp tagger\n",
    "t2_regexp = nltk.BigramTagger(train_sents, backoff=uni_regexp)\n",
    "print(\n",
    "    \"Perf. bigram tagger,  fallback on        unigram+regexp tagger: {0}\".format(\n",
    "        t2_regexp.accuracy(test_sents)\n",
    "    )\n",
    ")\n",
    "\n",
    "# evaluate a trigram tagger with a backoff to the bigram+unigram+regexp tagger\n",
    "t3_regexp = nltk.TrigramTagger(train_sents, backoff=t2_regexp)\n",
    "print(\n",
    "    \"Perf. trigram tagger, fallback on bigram+unigram+regexp tagger: {0}\".format(\n",
    "        t3_regexp.accuracy(test_sents)\n",
    "    )\n",
    ")\n",
    "\n",
    "## and on our sample sentence:\n",
    "print(t2.tag(tokens))"
   ]
  },
  {
   "cell_type": "markdown",
   "metadata": {},
   "source": [
    "## 4. Viterbi Algorithm\n",
    "\n",
    "🎯 [**to do:** Code the Viterbi algorithm (in your most favorite programming language) and apply it to the toy example provided on slide 8 of the lecture on HMM: two symbols (H,T), two states (the two coins)]  \n",
    "\n",
    "A = [[ 0.4 0.6 ]; [0.9 0.1 ]],  \n",
    "B = [[ 0.49 0.51 ]; [ 0.85 0.15 ]],  \n",
    "I = [ 0.5 0.5 ].\n",
    "\n",
    "🎯 [**to do:** What is (one of) the most probable sequence of states corresponding to the observation `HTTHTTHHTTHTTTHHTHHTTHTTTTHTHHTHTHHTTTH`?]"
   ]
  },
  {
   "cell_type": "markdown",
   "metadata": {
    "tags": [
     "solution"
    ]
   },
   "source": [
    "[Here (link)](https://coling.epfl.ch/TP/corr/viterbi.pdf) are some slides illustrating the Viterbi algorithm at work on a concreate simple example.\n",
    "\n",
    "Regarding our question, the solution should be one of 32 _equaly probable_ solutions:\n",
    "```\n",
    "211211 12 112111 12 1 12 112111121 12 121 12 1112\n",
    "211211 12 112111 12 1 12 112111121 12 121 21 1112\n",
    "211211 12 112111 12 1 12 112111121 21 121 12 1112\n",
    "211211 12 112111 12 1 12 112111121 21 121 21 1112\n",
    "211211 12 112111 12 1 21 112111121 12 121 12 1112\n",
    "211211 12 112111 12 1 21 112111121 12 121 21 1112\n",
    "211211 12 112111 12 1 21 112111121 21 121 12 1112\n",
    "211211 12 112111 12 1 21 112111121 21 121 21 1112\n",
    "                                             \n",
    "211211 12 112111 21 1 12 112111121 12 121 12 1112\n",
    "211211 12 112111 21 1 12 112111121 12 121 21 1112\n",
    "211211 12 112111 21 1 12 112111121 21 121 12 1112\n",
    "211211 12 112111 21 1 12 112111121 21 121 21 1112\n",
    "211211 12 112111 21 1 21 112111121 12 121 12 1112\n",
    "211211 12 112111 21 1 21 112111121 12 121 21 1112\n",
    "211211 12 112111 21 1 21 112111121 21 121 12 1112\n",
    "211211 12 112111 21 1 21 112111121 21 121 21 1112\n",
    "                                             \n",
    "211211 21 112111 12 1 12 112111121 12 121 12 1112\n",
    "211211 21 112111 12 1 12 112111121 12 121 21 1112\n",
    "211211 21 112111 12 1 12 112111121 21 121 12 1112\n",
    "211211 21 112111 12 1 12 112111121 21 121 21 1112\n",
    "211211 21 112111 12 1 21 112111121 12 121 12 1112\n",
    "211211 21 112111 12 1 21 112111121 12 121 21 1112\n",
    "211211 21 112111 12 1 21 112111121 21 121 12 1112\n",
    "211211 21 112111 12 1 21 112111121 21 121 21 1112\n",
    "                                             \n",
    "211211 21 112111 21 1 12 112111121 12 121 12 1112\n",
    "211211 21 112111 21 1 12 112111121 12 121 21 1112\n",
    "211211 21 112111 21 1 12 112111121 21 121 12 1112\n",
    "211211 21 112111 21 1 12 112111121 21 121 21 1112\n",
    "211211 21 112111 21 1 21 112111121 12 121 12 1112\n",
    "211211 21 112111 21 1 21 112111121 12 121 21 1112\n",
    "211211 21 112111 21 1 21 112111121 21 121 12 1112\n",
    "211211 21 112111 21 1 21 112111121 21 121 21 1112\n",
    "```\n",
    "\n",
    "Here are [a C++ code](https://coling.epfl.ch/TP/corr/viterbi.cc), [a Perl code](https://coling.epfl.ch/TP/corr/viterbi.pl) and [an Haskel code (from 2014 student Romain Edelman)](https://coling.epfl.ch/TP/corr/Viterbi.hs)."
   ]
  },
  {
   "cell_type": "markdown",
   "metadata": {},
   "source": []
  }
 ],
 "metadata": {
  "celltoolbar": "Tags",
  "kernelspec": {
   "display_name": ".venv",
   "language": "python",
   "name": "python3"
  },
  "language_info": {
   "codemirror_mode": {
    "name": "ipython",
    "version": 3
   },
   "file_extension": ".py",
   "mimetype": "text/x-python",
   "name": "python",
   "nbconvert_exporter": "python",
   "pygments_lexer": "ipython3",
   "version": "3.11.12"
  }
 },
 "nbformat": 4,
 "nbformat_minor": 2
}
